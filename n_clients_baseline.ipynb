{
 "cells": [
  {
   "cell_type": "code",
   "execution_count": 3,
   "id": "50732264-d0ba-4e3a-bfe8-b274d9cdf1f5",
   "metadata": {},
   "outputs": [],
   "source": [
    "import torch\n",
    "import torch.nn as nn\n",
    "from torchvision import models\n",
    "import torchvision.transforms as T\n",
    "from torch import optim\n",
    "import numpy as np\n",
    "import random\n",
    "from torch.autograd import Variable\n",
    "\n",
    "import pdb\n",
    "import matplotlib.pyplot as plt\n",
    "import IPython.display as display\n",
    "import PIL.Image\n",
    "import torch.cuda.amp as amp"
   ]
  },
  {
   "cell_type": "code",
   "execution_count": 4,
   "id": "4c22f5fc-0414-4b05-81b7-0e4a1d49707e",
   "metadata": {},
   "outputs": [],
   "source": [
    "from torchvision.datasets.cifar import CIFAR10\n",
    "from torch.utils.data import Subset\n",
    "from torch.utils.data import DataLoader"
   ]
  },
  {
   "cell_type": "code",
   "execution_count": 5,
   "id": "2a154bc4-247b-4088-8521-0d35858c2afa",
   "metadata": {},
   "outputs": [],
   "source": [
    "seed = 2\n",
    "\n",
    "torch.manual_seed(seed)\n",
    "random.seed(seed)\n",
    "np.random.seed(seed)"
   ]
  },
  {
   "cell_type": "code",
   "execution_count": 6,
   "id": "6afe805d-b383-4dbe-94ad-4f0698f4e935",
   "metadata": {},
   "outputs": [],
   "source": [
    "device_ids = [0, 1, 2, 3]\n",
    "batch_size = len(device_ids) * 256\n",
    "device = torch.device('cuda:{}'.format(device_ids[0]))"
   ]
  },
  {
   "cell_type": "code",
   "execution_count": 7,
   "id": "a631b310-6ce1-483c-8468-e7f80d4438d3",
   "metadata": {},
   "outputs": [
    {
     "name": "stdout",
     "output_type": "stream",
     "text": [
      "Files already downloaded and verified\n",
      "Files already downloaded and verified\n"
     ]
    }
   ],
   "source": [
    "IMAGE_SIZE = 32\n",
    "num_classes = 10\n",
    "\n",
    "train_transform = T.Compose(\n",
    "    [\n",
    "        T.RandomCrop(32, padding=4),\n",
    "        T.RandomHorizontalFlip(),\n",
    "        T.ToTensor(),\n",
    "        T.Normalize(\n",
    "            (0.4914, 0.4822, 0.4465), \n",
    "            (0.2023, 0.1994, 0.2010)\n",
    "        ),\n",
    "    ]\n",
    ")\n",
    "test_transform = T.Compose(\n",
    "    [\n",
    "        T.ToTensor(),\n",
    "        T.Normalize(\n",
    "            (0.4914, 0.4822, 0.4465), \n",
    "            (0.2023, 0.1994, 0.2010)\n",
    "        ),\n",
    "    ]\n",
    ")\n",
    "train_dataset = CIFAR10(\n",
    "    root=\"./imgs/cifar10\", train=True, download=True, transform=train_transform\n",
    ")\n",
    "test_dataset = CIFAR10(\n",
    "    root=\"./imgs/cifar10\", train=False, download=True, transform=test_transform\n",
    ")"
   ]
  },
  {
   "cell_type": "code",
   "execution_count": 8,
   "id": "884e5291-9781-4f4d-be0b-d484f94c4556",
   "metadata": {},
   "outputs": [],
   "source": [
    "train_loader = DataLoader(train_dataset, batch_size=batch_size)\n",
    "test_loader = DataLoader(test_dataset, batch_size=batch_size)"
   ]
  },
  {
   "cell_type": "code",
   "execution_count": 9,
   "id": "21cc3e34-9962-4f2f-ae12-92e386398c0d",
   "metadata": {},
   "outputs": [],
   "source": [
    "indices = np.random.permutation(len(train_dataset))"
   ]
  },
  {
   "cell_type": "code",
   "execution_count": 10,
   "id": "6daaf69e-ec62-4e80-84d6-95e08d663baa",
   "metadata": {},
   "outputs": [],
   "source": [
    "loss_fn = nn.CrossEntropyLoss()\n",
    "optim = torch.optim.Adam\n",
    "\n",
    "c_models = []\n",
    "c_optims = []\n",
    "c_dsets = []\n",
    "c_dloaders = []\n",
    "\n",
    "num_clients = 2\n",
    "samples_per_client = 10000\n",
    "\n",
    "for i in range(num_clients):\n",
    "    c_model = nn.DataParallel(models.resnet34().to(device), device_ids=device_ids)\n",
    "    c_optim = optim(c_model.parameters(), lr=3e-4)\n",
    "    c_idx = indices[i*samples_per_client: (i+1)*samples_per_client]\n",
    "    c_dset = Subset(train_dataset, c_idx)\n",
    "    c_dloader = DataLoader(c_dset, batch_size=64*len(device_ids), shuffle=True)\n",
    "\n",
    "    c_models.append(c_model)\n",
    "    c_optims.append(c_optim)\n",
    "    c_dsets.append(c_dset)\n",
    "    c_dloaders.append(c_dloader)"
   ]
  },
  {
   "cell_type": "markdown",
   "id": "6d63dfc7-04b6-4b30-a8e2-83b40bcedb49",
   "metadata": {},
   "source": [
    "## Isolated Training"
   ]
  },
  {
   "cell_type": "code",
   "execution_count": 21,
   "id": "166a3919-1d17-4d32-ae69-a49ad6ad03d2",
   "metadata": {},
   "outputs": [],
   "source": [
    "acc_list = {}\n",
    "for i in range(num_clients):\n",
    "    acc_list[str(i)] = []"
   ]
  },
  {
   "cell_type": "code",
   "execution_count": 22,
   "id": "587fb34c-c573-4f64-8436-9287f7ef5b2f",
   "metadata": {
    "collapsed": true,
    "jupyter": {
     "outputs_hidden": true
    },
    "tags": []
   },
   "outputs": [
    {
     "ename": "RuntimeError",
     "evalue": "Caught RuntimeError in replica 0 on device 0.\nOriginal Traceback (most recent call last):\n  File \"/u/abhi24/matlaberp3/.torchP3/lib/python3.10/site-packages/torch/nn/parallel/parallel_apply.py\", line 64, in _worker\n    output = module(*input, **kwargs)\n  File \"/u/abhi24/matlaberp3/.torchP3/lib/python3.10/site-packages/torch/nn/modules/module.py\", line 1186, in _call_impl\n    return forward_call(*input, **kwargs)\n  File \"/u/abhi24/matlaberp3/.torchP3/lib/python3.10/site-packages/torchvision/models/resnet.py\", line 285, in forward\n    return self._forward_impl(x)\n  File \"/u/abhi24/matlaberp3/.torchP3/lib/python3.10/site-packages/torchvision/models/resnet.py\", line 278, in _forward_impl\n    x = self.avgpool(x)\n  File \"/u/abhi24/matlaberp3/.torchP3/lib/python3.10/site-packages/torch/nn/modules/module.py\", line 1186, in _call_impl\n    return forward_call(*input, **kwargs)\n  File \"/u/abhi24/matlaberp3/.torchP3/lib/python3.10/site-packages/torch/nn/modules/pooling.py\", line 1183, in forward\n    return F.adaptive_avg_pool2d(input, self.output_size)\n  File \"/u/abhi24/matlaberp3/.torchP3/lib/python3.10/site-packages/torch/nn/functional.py\", line 1214, in adaptive_avg_pool2d\n    return torch._C._nn.adaptive_avg_pool2d(input, _output_size)\nRuntimeError: CUDA error: no kernel image is available for execution on the device\nCUDA kernel errors might be asynchronously reported at some other API call,so the stacktrace below might be incorrect.\nFor debugging consider passing CUDA_LAUNCH_BLOCKING=1.\n",
     "output_type": "error",
     "traceback": [
      "\u001b[0;31m---------------------------------------------------------------------------\u001b[0m",
      "\u001b[0;31mRuntimeError\u001b[0m                              Traceback (most recent call last)",
      "Input \u001b[0;32mIn [22]\u001b[0m, in \u001b[0;36m<cell line: 4>\u001b[0;34m()\u001b[0m\n\u001b[1;32m     10\u001b[0m \u001b[38;5;28;01mwith\u001b[39;00m torch\u001b[38;5;241m.\u001b[39mno_grad():\n\u001b[1;32m     11\u001b[0m     x, y_hat \u001b[38;5;241m=\u001b[39m x\u001b[38;5;241m.\u001b[39mto(device), y_hat\u001b[38;5;241m.\u001b[39mto(device)\n\u001b[0;32m---> 12\u001b[0m     y \u001b[38;5;241m=\u001b[39m \u001b[43mc_model\u001b[49m\u001b[43m(\u001b[49m\u001b[43mx\u001b[49m\u001b[43m)\u001b[49m\n\u001b[1;32m     13\u001b[0m     correct \u001b[38;5;241m+\u001b[39m\u001b[38;5;241m=\u001b[39m (y\u001b[38;5;241m.\u001b[39margmax(dim\u001b[38;5;241m=\u001b[39m\u001b[38;5;241m1\u001b[39m) \u001b[38;5;241m==\u001b[39m y_hat)\u001b[38;5;241m.\u001b[39msum()\n\u001b[1;32m     14\u001b[0m     total \u001b[38;5;241m+\u001b[39m\u001b[38;5;241m=\u001b[39m x\u001b[38;5;241m.\u001b[39mshape[\u001b[38;5;241m0\u001b[39m]\n",
      "File \u001b[0;32m~/matlaberp3/.torchP3/lib/python3.10/site-packages/torch/nn/modules/module.py:1186\u001b[0m, in \u001b[0;36mModule._call_impl\u001b[0;34m(self, *input, **kwargs)\u001b[0m\n\u001b[1;32m   1182\u001b[0m \u001b[38;5;66;03m# If we don't have any hooks, we want to skip the rest of the logic in\u001b[39;00m\n\u001b[1;32m   1183\u001b[0m \u001b[38;5;66;03m# this function, and just call forward.\u001b[39;00m\n\u001b[1;32m   1184\u001b[0m \u001b[38;5;28;01mif\u001b[39;00m \u001b[38;5;129;01mnot\u001b[39;00m (\u001b[38;5;28mself\u001b[39m\u001b[38;5;241m.\u001b[39m_backward_hooks \u001b[38;5;129;01mor\u001b[39;00m \u001b[38;5;28mself\u001b[39m\u001b[38;5;241m.\u001b[39m_forward_hooks \u001b[38;5;129;01mor\u001b[39;00m \u001b[38;5;28mself\u001b[39m\u001b[38;5;241m.\u001b[39m_forward_pre_hooks \u001b[38;5;129;01mor\u001b[39;00m _global_backward_hooks\n\u001b[1;32m   1185\u001b[0m         \u001b[38;5;129;01mor\u001b[39;00m _global_forward_hooks \u001b[38;5;129;01mor\u001b[39;00m _global_forward_pre_hooks):\n\u001b[0;32m-> 1186\u001b[0m     \u001b[38;5;28;01mreturn\u001b[39;00m \u001b[43mforward_call\u001b[49m\u001b[43m(\u001b[49m\u001b[38;5;241;43m*\u001b[39;49m\u001b[38;5;28;43minput\u001b[39;49m\u001b[43m,\u001b[49m\u001b[43m \u001b[49m\u001b[38;5;241;43m*\u001b[39;49m\u001b[38;5;241;43m*\u001b[39;49m\u001b[43mkwargs\u001b[49m\u001b[43m)\u001b[49m\n\u001b[1;32m   1187\u001b[0m \u001b[38;5;66;03m# Do not call functions when jit is used\u001b[39;00m\n\u001b[1;32m   1188\u001b[0m full_backward_hooks, non_full_backward_hooks \u001b[38;5;241m=\u001b[39m [], []\n",
      "File \u001b[0;32m~/matlaberp3/.torchP3/lib/python3.10/site-packages/torch/nn/parallel/data_parallel.py:170\u001b[0m, in \u001b[0;36mDataParallel.forward\u001b[0;34m(self, *inputs, **kwargs)\u001b[0m\n\u001b[1;32m    168\u001b[0m     \u001b[38;5;28;01mreturn\u001b[39;00m \u001b[38;5;28mself\u001b[39m\u001b[38;5;241m.\u001b[39mmodule(\u001b[38;5;241m*\u001b[39minputs[\u001b[38;5;241m0\u001b[39m], \u001b[38;5;241m*\u001b[39m\u001b[38;5;241m*\u001b[39mkwargs[\u001b[38;5;241m0\u001b[39m])\n\u001b[1;32m    169\u001b[0m replicas \u001b[38;5;241m=\u001b[39m \u001b[38;5;28mself\u001b[39m\u001b[38;5;241m.\u001b[39mreplicate(\u001b[38;5;28mself\u001b[39m\u001b[38;5;241m.\u001b[39mmodule, \u001b[38;5;28mself\u001b[39m\u001b[38;5;241m.\u001b[39mdevice_ids[:\u001b[38;5;28mlen\u001b[39m(inputs)])\n\u001b[0;32m--> 170\u001b[0m outputs \u001b[38;5;241m=\u001b[39m \u001b[38;5;28;43mself\u001b[39;49m\u001b[38;5;241;43m.\u001b[39;49m\u001b[43mparallel_apply\u001b[49m\u001b[43m(\u001b[49m\u001b[43mreplicas\u001b[49m\u001b[43m,\u001b[49m\u001b[43m \u001b[49m\u001b[43minputs\u001b[49m\u001b[43m,\u001b[49m\u001b[43m \u001b[49m\u001b[43mkwargs\u001b[49m\u001b[43m)\u001b[49m\n\u001b[1;32m    171\u001b[0m \u001b[38;5;28;01mreturn\u001b[39;00m \u001b[38;5;28mself\u001b[39m\u001b[38;5;241m.\u001b[39mgather(outputs, \u001b[38;5;28mself\u001b[39m\u001b[38;5;241m.\u001b[39moutput_device)\n",
      "File \u001b[0;32m~/matlaberp3/.torchP3/lib/python3.10/site-packages/torch/nn/parallel/data_parallel.py:180\u001b[0m, in \u001b[0;36mDataParallel.parallel_apply\u001b[0;34m(self, replicas, inputs, kwargs)\u001b[0m\n\u001b[1;32m    179\u001b[0m \u001b[38;5;28;01mdef\u001b[39;00m \u001b[38;5;21mparallel_apply\u001b[39m(\u001b[38;5;28mself\u001b[39m, replicas, inputs, kwargs):\n\u001b[0;32m--> 180\u001b[0m     \u001b[38;5;28;01mreturn\u001b[39;00m \u001b[43mparallel_apply\u001b[49m\u001b[43m(\u001b[49m\u001b[43mreplicas\u001b[49m\u001b[43m,\u001b[49m\u001b[43m \u001b[49m\u001b[43minputs\u001b[49m\u001b[43m,\u001b[49m\u001b[43m \u001b[49m\u001b[43mkwargs\u001b[49m\u001b[43m,\u001b[49m\u001b[43m \u001b[49m\u001b[38;5;28;43mself\u001b[39;49m\u001b[38;5;241;43m.\u001b[39;49m\u001b[43mdevice_ids\u001b[49m\u001b[43m[\u001b[49m\u001b[43m:\u001b[49m\u001b[38;5;28;43mlen\u001b[39;49m\u001b[43m(\u001b[49m\u001b[43mreplicas\u001b[49m\u001b[43m)\u001b[49m\u001b[43m]\u001b[49m\u001b[43m)\u001b[49m\n",
      "File \u001b[0;32m~/matlaberp3/.torchP3/lib/python3.10/site-packages/torch/nn/parallel/parallel_apply.py:89\u001b[0m, in \u001b[0;36mparallel_apply\u001b[0;34m(modules, inputs, kwargs_tup, devices)\u001b[0m\n\u001b[1;32m     87\u001b[0m     output \u001b[38;5;241m=\u001b[39m results[i]\n\u001b[1;32m     88\u001b[0m     \u001b[38;5;28;01mif\u001b[39;00m \u001b[38;5;28misinstance\u001b[39m(output, ExceptionWrapper):\n\u001b[0;32m---> 89\u001b[0m         \u001b[43moutput\u001b[49m\u001b[38;5;241;43m.\u001b[39;49m\u001b[43mreraise\u001b[49m\u001b[43m(\u001b[49m\u001b[43m)\u001b[49m\n\u001b[1;32m     90\u001b[0m     outputs\u001b[38;5;241m.\u001b[39mappend(output)\n\u001b[1;32m     91\u001b[0m \u001b[38;5;28;01mreturn\u001b[39;00m outputs\n",
      "File \u001b[0;32m~/matlaberp3/.torchP3/lib/python3.10/site-packages/torch/_utils.py:543\u001b[0m, in \u001b[0;36mExceptionWrapper.reraise\u001b[0;34m(self)\u001b[0m\n\u001b[1;32m    539\u001b[0m \u001b[38;5;28;01mexcept\u001b[39;00m \u001b[38;5;167;01mTypeError\u001b[39;00m:\n\u001b[1;32m    540\u001b[0m     \u001b[38;5;66;03m# If the exception takes multiple arguments, don't try to\u001b[39;00m\n\u001b[1;32m    541\u001b[0m     \u001b[38;5;66;03m# instantiate since we don't know how to\u001b[39;00m\n\u001b[1;32m    542\u001b[0m     \u001b[38;5;28;01mraise\u001b[39;00m \u001b[38;5;167;01mRuntimeError\u001b[39;00m(msg) \u001b[38;5;28;01mfrom\u001b[39;00m \u001b[38;5;28mNone\u001b[39m\n\u001b[0;32m--> 543\u001b[0m \u001b[38;5;28;01mraise\u001b[39;00m exception\n",
      "\u001b[0;31mRuntimeError\u001b[0m: Caught RuntimeError in replica 0 on device 0.\nOriginal Traceback (most recent call last):\n  File \"/u/abhi24/matlaberp3/.torchP3/lib/python3.10/site-packages/torch/nn/parallel/parallel_apply.py\", line 64, in _worker\n    output = module(*input, **kwargs)\n  File \"/u/abhi24/matlaberp3/.torchP3/lib/python3.10/site-packages/torch/nn/modules/module.py\", line 1186, in _call_impl\n    return forward_call(*input, **kwargs)\n  File \"/u/abhi24/matlaberp3/.torchP3/lib/python3.10/site-packages/torchvision/models/resnet.py\", line 285, in forward\n    return self._forward_impl(x)\n  File \"/u/abhi24/matlaberp3/.torchP3/lib/python3.10/site-packages/torchvision/models/resnet.py\", line 278, in _forward_impl\n    x = self.avgpool(x)\n  File \"/u/abhi24/matlaberp3/.torchP3/lib/python3.10/site-packages/torch/nn/modules/module.py\", line 1186, in _call_impl\n    return forward_call(*input, **kwargs)\n  File \"/u/abhi24/matlaberp3/.torchP3/lib/python3.10/site-packages/torch/nn/modules/pooling.py\", line 1183, in forward\n    return F.adaptive_avg_pool2d(input, self.output_size)\n  File \"/u/abhi24/matlaberp3/.torchP3/lib/python3.10/site-packages/torch/nn/functional.py\", line 1214, in adaptive_avg_pool2d\n    return torch._C._nn.adaptive_avg_pool2d(input, _output_size)\nRuntimeError: CUDA error: no kernel image is available for execution on the device\nCUDA kernel errors might be asynchronously reported at some other API call,so the stacktrace below might be incorrect.\nFor debugging consider passing CUDA_LAUNCH_BLOCKING=1.\n"
     ]
    },
    {
     "data": {
      "image/png": "[encoded data removed]",
      "text/plain": [
       "<Figure size 1584x216 with 5 Axes>"
      ]
     },
     "metadata": {
      "needs_background": "light"
     },
     "output_type": "display_data"
    }
   ],
   "source": [
    "total_epochs = 200\n",
    "fig, axs = plt.subplots(ncols=num_clients, nrows=1, figsize=(22, 3))\n",
    "\n",
    "for epoch in range(total_epochs):\n",
    "    for client_num in range(num_clients):\n",
    "        c_model = c_models[client_num]\n",
    "        c_model.eval()\n",
    "        correct, total = 0, 0\n",
    "        for x, y_hat in test_loader:\n",
    "            with torch.no_grad():\n",
    "                x, y_hat = x.to(device), y_hat.to(device)\n",
    "                y = c_model(x)\n",
    "                correct += (y.argmax(dim=1) == y_hat).sum()\n",
    "                total += x.shape[0]\n",
    "        acc = correct / total\n",
    "        # print(\"epoch {}, client {}, acc {:.4f}\".format(epoch, client_num, acc))\n",
    "        acc_list[str(client_num)].append(acc.item())\n",
    "    for client_num in range(num_clients):\n",
    "        display.display(plt.gcf())\n",
    "        display.clear_output(wait=True)\n",
    "        axs[client_num].plot(acc_list[str(client_num)])\n",
    "\n",
    "    for client_num in range(num_clients):\n",
    "        c_model = c_models[client_num]\n",
    "        c_model.train()\n",
    "        c_optim = c_optims[client_num]\n",
    "        c_dloader = c_dloaders[client_num]\n",
    "        for x, y_hat in c_dloader:\n",
    "            x, y_hat = x.to(device), y_hat.to(device)\n",
    "            c_optim.zero_grad()\n",
    "            y = c_model(x)\n",
    "            loss = loss_fn(y, y_hat)\n",
    "            loss.backward()\n",
    "            c_optim.step()\n"
   ]
  },
  {
   "cell_type": "markdown",
   "id": "da7f5c00-84d2-4799-869b-1f6b1eca4cc0",
   "metadata": {},
   "source": [
    "## Save models"
   ]
  },
  {
   "cell_type": "code",
   "execution_count": null,
   "id": "bc8f482a-07df-4256-b60c-3c8c090b3a76",
   "metadata": {},
   "outputs": [],
   "source": [
    "for i in range(num_clients):\n",
    "    torch.save(c_models[i].module.state_dict(), f\"./saved_models/c{i}_isolated.pt\")"
   ]
  },
  {
   "cell_type": "markdown",
   "id": "fb4519fe-b2ef-420a-95aa-691063102205",
   "metadata": {},
   "source": [
    "## Load models"
   ]
  },
  {
   "cell_type": "code",
   "execution_count": 9,
   "id": "fb2aa387-71ba-405f-bcb2-712cbef101dc",
   "metadata": {},
   "outputs": [],
   "source": [
    "for i in range(num_clients):\n",
    "    c_models[i].module.load_state_dict(torch.load(f\"./saved_models/c{i}_isolated.pt\"))"
   ]
  },
  {
   "cell_type": "code",
   "execution_count": 9,
   "id": "053cc73e-4e21-4d1d-8a6a-3c79921b3edd",
   "metadata": {},
   "outputs": [],
   "source": [
    "for i in range(num_clients):\n",
    "    c_models[i].module.load_state_dict(torch.load(f\"./saved_models/c{i}_collab.pt\"))"
   ]
  },
  {
   "cell_type": "markdown",
   "id": "551de768-9b44-4335-871a-9f6cdad38ad0",
   "metadata": {},
   "source": [
    "## Evaluate on a common test-set"
   ]
  },
  {
   "cell_type": "code",
   "execution_count": 9,
   "id": "0a7c7671-ee3e-4a88-ba8a-41359b9e1f92",
   "metadata": {},
   "outputs": [
    {
     "name": "stdout",
     "output_type": "stream",
     "text": [
      "client 0, acc 0.0000\n",
      "client 1, acc 0.0008\n"
     ]
    }
   ],
   "source": [
    "for client_num in range(num_clients):\n",
    "    c_model = c_models[client_num]\n",
    "    c_model.eval()\n",
    "    correct, total = 0, 0\n",
    "    for x, y_hat in test_loader:\n",
    "        with torch.no_grad():\n",
    "            x, y_hat = x.to(device), y_hat.to(device)\n",
    "            y = c_model(x)\n",
    "            correct += (y.argmax(dim=1) == y_hat).sum()\n",
    "            total += x.shape[0]\n",
    "    print(\"client {}, acc {:.4f}\".format(client_num, correct/total))"
   ]
  },
  {
   "cell_type": "markdown",
   "id": "e01482ac-510a-4d73-8acb-2b4500b8a0d6",
   "metadata": {},
   "source": [
    "## Collaborative Training"
   ]
  },
  {
   "cell_type": "code",
   "execution_count": 11,
   "id": "b4951d95-8814-4613-841d-5e7d156c8fcd",
   "metadata": {},
   "outputs": [],
   "source": [
    "from modules import DeepInversionFeatureHook, total_variation_loss"
   ]
  },
  {
   "cell_type": "code",
   "execution_count": 12,
   "id": "6cf4bb12-0a05-4c78-8631-1bee6532c256",
   "metadata": {},
   "outputs": [],
   "source": [
    "mean=np.array((0.4914, 0.4822, 0.4465))\n",
    "std=np.array((0.2023, 0.1994, 0.2010))\n",
    "\n",
    "LOWER_IMAGE_BOUND = torch.tensor((-mean / std).reshape(1, -1, 1, 1)).float().to(device)\n",
    "UPPER_IMAGE_BOUND = torch.tensor(((1 - mean) / std).reshape(1, -1, 1, 1)).float().to(device)"
   ]
  },
  {
   "cell_type": "code",
   "execution_count": 13,
   "id": "e866ca53-774c-4eb1-b6f5-480e26e98b5e",
   "metadata": {},
   "outputs": [],
   "source": [
    "import time"
   ]
  },
  {
   "cell_type": "code",
   "execution_count": 29,
   "id": "a1bfb72e-5ac3-4a19-b2b0-c46241b9f7bc",
   "metadata": {},
   "outputs": [],
   "source": [
    "def run_grad_ascent_on_data(orig_img, target_label, model, lr=0.05, steps=50):\n",
    "    start = time.time()\n",
    "    # scaler = GradScaler()\n",
    "    # print(\"BEFORE: memory_allocated: %fGB\"%(torch.cuda.memory_allocated(0)/1024/1024/1024))\n",
    "    # print(\"BEFORE: memory_reserved: %fGB\"%(torch.cuda.memory_reserved(0)/1024/1024/1024))\n",
    "    print(\"BEFORE: max_memory_reserved: %fGB\"%(torch.cuda.max_memory_reserved(0)/1024/1024/1024))\n",
    "\n",
    "    alpha_tv, alpha_l2, alpha_f = 2.5e-5, 3e-8, 10.0\n",
    "    loss_r_feature_layers = []\n",
    "\n",
    "    for module in model.modules():\n",
    "        if isinstance(module, nn.BatchNorm2d):\n",
    "            loss_r_feature_layers.append(DeepInversionFeatureHook(module))\n",
    "\n",
    "    updated_img = orig_img.detach()#.clone()\n",
    "    updated_img.requires_grad = True\n",
    "    updated_img.retain_grad()\n",
    "    print(\"MIDDLE: max_memory_reserved: %fGB\"%(torch.cuda.max_memory_reserved(0)/1024/1024/1024))\n",
    "    lim_0, lim_1 = 2, 2\n",
    "    for it in range(steps):\n",
    "        off1 = random.randint(-lim_0, lim_0)\n",
    "        off2 = random.randint(-lim_1, lim_1)\n",
    "        inputs_jit = torch.roll(updated_img.detach(), shifts=(off1, off2), dims=(2,3))\n",
    "\n",
    "        # with autocast(device_type='cuda', dtype=torch.float16):\n",
    "        acts = model.module(inputs_jit)[:, :10]\n",
    "        # ce_loss = nn.functional.mse_loss(target_label, acts).sum()\n",
    "        ce_loss = nn.CrossEntropyLoss()(acts, target_label)\n",
    "\n",
    "        # rescale = [first_bn_multiplier] + [1. for _ in range(len(loss_r_feature_layers)-1)]\n",
    "        loss_r_feature = sum([model.r_feature for (idx, model) in enumerate(loss_r_feature_layers)])\n",
    "        loss = ce_loss + alpha_tv * total_variation_loss(updated_img) + alpha_l2 * torch.linalg.norm(updated_img) + alpha_f * loss_r_feature\n",
    "\n",
    "        loss.backward()\n",
    "        # scaler.scale(loss).backward()\n",
    "        # if it % 10 == 0:\n",
    "        #     display.clear_output(wait=True)\n",
    "        #     show(deprocess(updated_img[0]).detach().permute(1,2,0))\n",
    "        #     print((updated_img - orig_img).mean())\n",
    "        grads = updated_img.grad.data / (torch.std(updated_img.grad.data) + 1e-8)\n",
    "        updated_img.data = updated_img.data - lr * grads\n",
    "        updated_img.data = torch.clamp(updated_img.data, min=LOWER_IMAGE_BOUND, max=UPPER_IMAGE_BOUND)\n",
    "        # optimizer.step()\n",
    "        model.zero_grad()\n",
    "        # optimizer.zero_grad()\n",
    "        updated_img.grad.data.zero_()\n",
    "    for item in loss_r_feature_layers:\n",
    "        item.close()\n",
    "    k = updated_img.detach().clone()\n",
    "    print(\"FINAL max_memory_reserved: %fGB\"%(torch.cuda.max_memory_reserved(0)/1024/1024/1024))\n",
    "    # print((updated_img - orig_img).mean())\n",
    "    del loss_r_feature_layers, inputs_jit, acts, grads, updated_img\n",
    "    torch.cuda.empty_cache()\n",
    "    # print(\"AFTER memory_allocated: %fGB\"%(torch.cuda.memory_allocated(0)/1024/1024/1024))\n",
    "    # print(\"AFTER memory_reserved: %fGB\"%(torch.cuda.memory_reserved(0)/1024/1024/1024))\n",
    "    print(\"AFTER max_memory_reserved: %fGB\"%(torch.cuda.max_memory_reserved(0)/1024/1024/1024))\n",
    "    print(time.time() - start, \"seconds\")\n",
    "    return k"
   ]
  },
  {
   "cell_type": "code",
   "execution_count": 15,
   "id": "d4ab30f0-d8f9-4f4c-bb00-d1e1ab2b03de",
   "metadata": {},
   "outputs": [],
   "source": [
    "from torch.cuda.amp import GradScaler\n",
    "from torch import autocast"
   ]
  },
  {
   "cell_type": "code",
   "execution_count": 16,
   "id": "9ec4d171-758b-4fa8-ab30-79f380dc5f3e",
   "metadata": {},
   "outputs": [],
   "source": [
    "new_acc_list = {}\n",
    "for i in range(num_clients):\n",
    "    new_acc_list[str(i)] = []"
   ]
  },
  {
   "cell_type": "code",
   "execution_count": 17,
   "id": "e61a8824-a18c-4f4b-a22f-2289b0cbf9c2",
   "metadata": {},
   "outputs": [
    {
     "data": {
      "text/plain": [
       "{'0': [], '1': []}"
      ]
     },
     "execution_count": 17,
     "metadata": {},
     "output_type": "execute_result"
    }
   ],
   "source": [
    "new_acc_list"
   ]
  },
  {
   "cell_type": "code",
   "execution_count": null,
   "id": "344efa4e-50ba-4d38-9ba2-5995d415a0ff",
   "metadata": {},
   "outputs": [
    {
     "name": "stdout",
     "output_type": "stream",
     "text": [
      "0\n",
      "generating image for client 0\n",
      "BEFORE: max_memory_reserved: 3.593750GB\n",
      "MIDDLE: max_memory_reserved: 3.593750GB\n",
      "FINAL max_memory_reserved: 3.593750GB\n",
      "AFTER max_memory_reserved: 3.593750GB\n",
      "10.405444145202637 seconds\n",
      "generating image for client 1\n",
      "BEFORE: max_memory_reserved: 3.593750GB\n",
      "MIDDLE: max_memory_reserved: 3.593750GB\n",
      "FINAL max_memory_reserved: 3.593750GB\n",
      "AFTER max_memory_reserved: 3.593750GB\n",
      "9.112683773040771 seconds\n",
      "training over\n",
      "1\n",
      "generating image for client 0\n",
      "BEFORE: max_memory_reserved: 3.593750GB\n",
      "MIDDLE: max_memory_reserved: 3.593750GB\n",
      "FINAL max_memory_reserved: 3.593750GB\n",
      "AFTER max_memory_reserved: 3.593750GB\n",
      "10.422072887420654 seconds\n",
      "generating image for client 1\n",
      "BEFORE: max_memory_reserved: 3.593750GB\n",
      "MIDDLE: max_memory_reserved: 3.593750GB\n",
      "FINAL max_memory_reserved: 3.593750GB\n",
      "AFTER max_memory_reserved: 3.593750GB\n",
      "9.109774827957153 seconds\n",
      "training over\n",
      "2\n",
      "generating image for client 0\n",
      "BEFORE: max_memory_reserved: 3.593750GB\n",
      "MIDDLE: max_memory_reserved: 3.593750GB\n",
      "FINAL max_memory_reserved: 3.593750GB\n",
      "AFTER max_memory_reserved: 3.593750GB\n",
      "10.368104457855225 seconds\n",
      "generating image for client 1\n",
      "BEFORE: max_memory_reserved: 3.593750GB\n",
      "MIDDLE: max_memory_reserved: 3.593750GB\n",
      "FINAL max_memory_reserved: 3.593750GB\n",
      "AFTER max_memory_reserved: 3.593750GB\n",
      "9.088015794754028 seconds\n",
      "training over\n",
      "3\n",
      "generating image for client 0\n",
      "BEFORE: max_memory_reserved: 3.593750GB\n",
      "MIDDLE: max_memory_reserved: 3.593750GB\n",
      "FINAL max_memory_reserved: 3.593750GB\n",
      "AFTER max_memory_reserved: 3.593750GB\n",
      "10.350179433822632 seconds\n",
      "generating image for client 1\n",
      "BEFORE: max_memory_reserved: 3.593750GB\n",
      "MIDDLE: max_memory_reserved: 3.593750GB\n",
      "FINAL max_memory_reserved: 3.593750GB\n",
      "AFTER max_memory_reserved: 3.593750GB\n",
      "9.160894393920898 seconds\n",
      "training over\n",
      "4\n",
      "generating image for client 0\n",
      "BEFORE: max_memory_reserved: 3.593750GB\n",
      "MIDDLE: max_memory_reserved: 3.593750GB\n",
      "FINAL max_memory_reserved: 3.593750GB\n",
      "AFTER max_memory_reserved: 3.593750GB\n",
      "10.358952522277832 seconds\n",
      "generating image for client 1\n",
      "BEFORE: max_memory_reserved: 3.593750GB\n",
      "MIDDLE: max_memory_reserved: 3.593750GB\n",
      "FINAL max_memory_reserved: 3.593750GB\n",
      "AFTER max_memory_reserved: 3.593750GB\n",
      "9.17618203163147 seconds\n",
      "training over\n",
      "5\n",
      "generating image for client 0\n",
      "BEFORE: max_memory_reserved: 3.593750GB\n",
      "MIDDLE: max_memory_reserved: 3.593750GB\n",
      "FINAL max_memory_reserved: 3.593750GB\n",
      "AFTER max_memory_reserved: 3.593750GB\n",
      "10.457867622375488 seconds\n",
      "generating image for client 1\n",
      "BEFORE: max_memory_reserved: 3.593750GB\n",
      "MIDDLE: max_memory_reserved: 3.593750GB\n"
     ]
    }
   ],
   "source": [
    "bs = 256\n",
    "kl_loss_fn = nn.KLDivLoss(reduction=\"batchmean\")\n",
    "\n",
    "fig, axs = plt.subplots(ncols=num_clients, nrows=1, figsize=(22, 3))\n",
    "\n",
    "for epoch in range(500):\n",
    "    collab_data = []\n",
    "    print(epoch)\n",
    "    # Evaluate on the common test set\n",
    "    # for client_num in range(num_clients):\n",
    "    #     c_model = c_models[client_num]\n",
    "    #     c_model.eval()\n",
    "    #     correct, total = 0, 0\n",
    "    #     for x, y_hat in test_loader:\n",
    "    #         with torch.no_grad():\n",
    "    #             x, y_hat = x.to(device), y_hat.to(device)\n",
    "    #             y = c_model(x)\n",
    "    #             correct += (y.argmax(dim=1) == y_hat).sum()\n",
    "    #             total += x.shape[0]\n",
    "    #     acc = correct / total\n",
    "    #     new_acc_list[str(client_num)].append(acc.item())\n",
    "\n",
    "    # Generate collab data\n",
    "    for client_num in range(num_clients):\n",
    "        \"\"\" We generate a zero vector of n (num_classes dimension)\n",
    "        then we generate random numbers within range n and substitute\n",
    "        zero at every index obtained from random number to be 1\n",
    "        This way the zero vector becomes a random one-hot vector\n",
    "        \"\"\"\n",
    "        zeroes = torch.zeros(bs, 10)\n",
    "        ind = torch.randint(low=0, high=10, size=(bs,))\n",
    "        zeroes[torch.arange(start=0, end=bs), ind] = 1\n",
    "        target = zeroes.to(device)\n",
    "        rand_imgs = torch.randn((bs, 3, 32, 32)).to(device)\n",
    "\n",
    "        c_model = c_models[client_num]\n",
    "        c_model.eval()\n",
    "        print(f\"generating image for client {client_num}\")\n",
    "        updated_imgs = run_grad_ascent_on_data(rand_imgs, target, c_model)\n",
    "        with torch.no_grad():\n",
    "            acts = c_model(updated_imgs)[:, :10].detach()\n",
    "        collab_data.append((updated_imgs, acts))\n",
    "        # print(c_models[0].module(updated_imgs).argmax(dim=1))\n",
    "        # print(c_models[1].module(updated_imgs).argmax(dim=1))\n",
    "        # break\n",
    "\n",
    "    # Train each client on their own data and collab data\n",
    "    # for client_num in range(num_clients):\n",
    "    #     c_model = c_models[client_num]\n",
    "    #     c_model.train()\n",
    "    #     c_optim = c_optims[client_num]\n",
    "    #     c_dloader = c_dloaders[client_num]\n",
    "    #     # Train it 10 times on the same distilled dataset\n",
    "    #     for _ in range(1):\n",
    "    #         for c_num, (x, y_hat) in enumerate(collab_data):\n",
    "    #             if c_num == client_num:\n",
    "    #                 # no need to train on its own distilled data\n",
    "    #                 continue\n",
    "    #             x, y_hat = x.to(device), y_hat.to(device)\n",
    "    #             c_optim.zero_grad()\n",
    "    #             y = c_model(x)[:, :10]\n",
    "    #             y = nn.functional.log_softmax(y, dim=1)\n",
    "    #             loss = kl_loss_fn(y, nn.functional.softmax(y_hat, dim=1))\n",
    "    #             loss.backward()\n",
    "    #             c_optim.step()\n",
    "    #     del x, y_hat\n",
    "    #     for x, y_hat in c_dloader:\n",
    "    #         x, y_hat = x.to(device), y_hat.to(device)\n",
    "    #         c_optim.zero_grad()\n",
    "    #         y = c_model(x)\n",
    "    #         loss = loss_fn(y, y_hat)\n",
    "    #         loss.backward()\n",
    "    #         c_optim.step()\n",
    "    print(\"training over\")\n",
    "    del collab_data, updated_imgs, acts\n"
   ]
  },
  {
   "cell_type": "code",
   "execution_count": null,
   "id": "e6d5a138-744a-4757-846a-8b3fd7bcd6a0",
   "metadata": {},
   "outputs": [],
   "source": [
    "bs"
   ]
  },
  {
   "cell_type": "code",
   "execution_count": null,
   "id": "ceaf3683-a029-41c8-83db-0a92906dc9eb",
   "metadata": {},
   "outputs": [],
   "source": []
  }
 ],
 "metadata": {
  "kernelspec": {
   "display_name": "Python 3 (ipykernel)",
   "language": "python",
   "name": "python3"
  },
  "language_info": {
   "codemirror_mode": {
    "name": "ipython",
    "version": 3
   },
   "file_extension": ".py",
   "mimetype": "text/x-python",
   "name": "python",
   "nbconvert_exporter": "python",
   "pygments_lexer": "ipython3",
   "version": "3.10.6"
  }
 },
 "nbformat": 4,
 "nbformat_minor": 5
}
