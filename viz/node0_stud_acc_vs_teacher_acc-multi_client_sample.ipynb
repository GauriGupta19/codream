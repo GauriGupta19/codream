{
 "cells": [
  {
   "cell_type": "code",
   "execution_count": 1,
   "id": "24e656fa-21c2-472f-84c2-c4f28b0772fa",
   "metadata": {},
   "outputs": [
    {
     "data": {
      "text/plain": [
       "'/u/luchar/collab_learning/viz'"
      ]
     },
     "execution_count": 1,
     "metadata": {},
     "output_type": "execute_result"
    }
   ],
   "source": [
    "pwd"
   ]
  },
  {
   "cell_type": "code",
   "execution_count": 2,
   "id": "baf418c3-5677-4d60-aad8-7b2daf2d0f06",
   "metadata": {},
   "outputs": [],
   "source": [
    "import os, shutil\n",
    "os.chdir('..')"
   ]
  },
  {
   "cell_type": "code",
   "execution_count": 3,
   "id": "7c466f47-a02c-435f-9722-67201fb0980c",
   "metadata": {},
   "outputs": [],
   "source": [
    "import torch\n",
    "import torch.nn as nn\n",
    "import torch.utils.data as data\n",
    "from glob import glob\n",
    "\n",
    "import torchvision.transforms as T\n",
    "from torchvision.datasets.cifar import CIFAR10\n",
    "from torch.utils.data import DataLoader, Subset\n",
    "import numpy as np\n",
    "from torch.nn.parallel import DataParallel\n",
    "from resnet import ResNet18, ResNet34, ResNet50"
   ]
  },
  {
   "cell_type": "code",
   "execution_count": 4,
   "id": "6a66d53f-6757-4c31-9333-4003703a68c7",
   "metadata": {},
   "outputs": [],
   "source": [
    "class BaseDataset(data.Dataset):\n",
    "    \"\"\"docstring for BaseDataset\"\"\"\n",
    "\n",
    "    def __init__(self, config):\n",
    "        super(BaseDataset, self).__init__()\n",
    "        self.format = config[\"format\"]\n",
    "        self.set_filepaths(config[\"path\"])\n",
    "        self.device = config[\"device\"]\n",
    "\n",
    "    def set_filepaths(self, path):\n",
    "        filepaths = path + \"/*{}\".format(self.format)\n",
    "        self.filepaths = glob(filepaths)\n",
    "\n",
    "    def load_batch(self, filepath):\n",
    "        inp, out = torch.load(filepath, map_location=self.device)\n",
    "        return inp, out\n",
    "\n",
    "    def __getitem__(self, index):\n",
    "        filepath = self.filepaths[index]\n",
    "        inp, out = self.load_batch(filepath)\n",
    "        out = nn.functional.log_softmax(out, dim=1)\n",
    "        return inp, out\n",
    "\n",
    "    def __len__(self):\n",
    "        return len(self.filepaths)"
   ]
  },
  {
   "cell_type": "code",
   "execution_count": 5,
   "id": "6d1b48b8-8615-4fae-b230-41ee805c3614",
   "metadata": {},
   "outputs": [],
   "source": [
    "def get_model(model_name:str, dset:str, device:torch.device, device_ids:list) -> DataParallel:\n",
    "        #TODO: add support for loading checkpointed models\n",
    "        channels = 3 if dset==\"cifar10\" else 1\n",
    "        model_name = model_name.lower()\n",
    "        if model_name == \"resnet18\":\n",
    "            model = ResNet18(channels)\n",
    "        elif model_name == \"resnet34\":\n",
    "            model = ResNet34(channels)\n",
    "        elif model_name == \"resnet50\":\n",
    "            model = ResNet50(channels)\n",
    "        else:\n",
    "            raise ValueError(f\"Model name {model_name} not supported\")\n",
    "        model = DataParallel(model.to(device), device_ids=device_ids)\n",
    "        return model"
   ]
  },
  {
   "cell_type": "code",
   "execution_count": 6,
   "id": "9215c4e5-f767-4ebe-9a18-826a5d10d1fc",
   "metadata": {},
   "outputs": [],
   "source": [
    "def test(model, dloader, loss_fn, device, **kwargs):\n",
    "        \"\"\"TODO: generate docstring\n",
    "        \"\"\"\n",
    "        model.eval()\n",
    "        test_loss = 0\n",
    "        correct = 0\n",
    "        with torch.no_grad():\n",
    "            for data, target in dloader:\n",
    "                data, target = data.to(device), target.to(device)\n",
    "                position = kwargs.get(\"position\", 0)\n",
    "                output = model(data, position=position)\n",
    "                test_loss += loss_fn(output, target).item()\n",
    "                pred = output.argmax(dim=1, keepdim=True)\n",
    "                # view_as() is used to make sure the shape of pred and target are the same\n",
    "                correct += pred.eq(target.view_as(pred)).sum().item()\n",
    "        acc = correct / len(dloader.dataset)\n",
    "        return test_loss, acc"
   ]
  },
  {
   "cell_type": "code",
   "execution_count": 7,
   "id": "9143edb2-019d-4fa1-a38a-2da8f570346e",
   "metadata": {},
   "outputs": [],
   "source": [
    "def train(model:nn.Module, optim, dloader, loss_fn, device: torch.device, **kwargs):\n",
    "        \"\"\"TODO: generate docstring\n",
    "        \"\"\"\n",
    "        model.train()\n",
    "        train_loss = 0\n",
    "        correct = 0\n",
    "        for batch_idx, (data, target) in enumerate(dloader):\n",
    "            data, target = data.to(device)[0], target.to(device)[0]\n",
    "            optim.zero_grad()\n",
    "            position = kwargs.get(\"position\", 0)\n",
    "            output = model(data, position=position)\n",
    "            if kwargs.get(\"apply_softmax\", False):\n",
    "                output = nn.functional.log_softmax(output, dim=1) # type: ignore\n",
    "            loss = loss_fn(output, target)\n",
    "            loss.backward()\n",
    "            optim.step()\n",
    "            train_loss += loss.item()\n",
    "            pred = output.argmax(dim=1, keepdim=True)\n",
    "            # view_as() is used to make sure the shape of pred and target are the same\n",
    "            if len(target.size()) > 1:\n",
    "                target = target.argmax(dim=1, keepdim=True)\n",
    "            correct += pred.eq(target.view_as(pred)).sum().item()\n",
    "        acc = correct / (len(dloader.dataset) * 128)\n",
    "        return train_loss, acc"
   ]
  },
  {
   "cell_type": "code",
   "execution_count": 8,
   "id": "9524285d-7393-4169-8cb1-c78d348e535e",
   "metadata": {},
   "outputs": [],
   "source": [
    "device = torch.device('cuda')"
   ]
  },
  {
   "cell_type": "code",
   "execution_count": 12,
   "id": "9e23fd54-6ee4-4168-9568-40bfbad39e6c",
   "metadata": {},
   "outputs": [],
   "source": [
    "distadam_data_config = {\n",
    "    \"format\": \"*_node.pt\",\n",
    "    \"path\": \"expt_dump/iid_clients_distill_reps_cifar10_4clients_6000samples_distadam_distill_epochs_10_global_steps_400_local_steps_0_position_0_warmup_250_inversion_algo_send_grads_adaptive_distill_False_fedadam_False_distadam_True_seed2/logs\",\n",
    "    \"device\": device\n",
    "}\n",
    "fedavg_data_config = {\n",
    "    \"format\": \"*_node.pt\",\n",
    "    \"path\": \"expt_dump/iid_clients_distill_reps_cifar10_4clients_6000samples_fedavg_distill_epochs_10_global_steps_400_local_steps_0_position_0_warmup_250_inversion_algo_send_grads_adaptive_distill_False_distadam_True_seed2/logs\",\n",
    "    \"device\": device\n",
    "}\n",
    "\n",
    "fedadam_data_config = {\n",
    "    \"format\": \"*_node.pt\",\n",
    "    \"path\": \"expt_dump/iid_clients_distill_reps_cifar10_4clients_6000samples_fedadam_distill_epochs_10_global_steps_400_local_steps_15_position_0_warmup_250_inversion_algo_send_grads_adaptive_distill_False_fedadam_True_distadam_False_seed2/logs\",\n",
    "    \"device\": device\n",
    "}\n",
    "\n",
    "k = 67 \n",
    "\n",
    "distadam_dset = BaseDataset(distadam_data_config)\n",
    "fedavg_dset = BaseDataset(fedavg_data_config)\n",
    "fedadam_dset = BaseDataset(fedadam_data_config)\n",
    "\n",
    "indices = np.random.permutation(len(distadam_dset))[:k]\n",
    "distadam_dset = Subset(distadam_dset, indices)\n",
    "indices = np.random.permutation(len(fedavg_dset))[:k]\n",
    "fedavg_dset = Subset(fedavg_dset, indices)\n",
    "indices = np.random.permutation(len(fedadam_dset))[:k]\n",
    "fedadam_dset = Subset(fedadam_dset, indices)\n"
   ]
  },
  {
   "cell_type": "code",
   "execution_count": 13,
   "id": "a9ec62d7-c316-4dd5-a4aa-a26202baa513",
   "metadata": {},
   "outputs": [],
   "source": [
    "distadam_train_loader = DataLoader(distadam_dset, batch_size=1, shuffle=True)\n",
    "fedavg_train_loader = DataLoader(fedavg_dset, batch_size=1, shuffle=True)\n",
    "fedadam_train_loader = DataLoader(fedadam_dset, batch_size=1, shuffle=True)\n",
    "\n",
    "dpath = \"imgs/cifar10/\"\n",
    "mean = np.array((0.4914, 0.4822, 0.4465))\n",
    "std = np.array((0.2023, 0.1994, 0.2010))\n",
    "test_transform = T.Compose(\n",
    "            [\n",
    "                T.ToTensor(),\n",
    "                T.Normalize(\n",
    "                    mean, \n",
    "                    std\n",
    "                ),\n",
    "            ]\n",
    "        )\n",
    "test_dset = CIFAR10(root=dpath, train=False, download=False, transform=test_transform)\n",
    "test_loader = DataLoader(test_dset, batch_size=256)"
   ]
  },
  {
   "cell_type": "code",
   "execution_count": 14,
   "id": "390ee98b-cac5-46aa-a879-cfdc32ffcb9c",
   "metadata": {},
   "outputs": [
    {
     "name": "stdout",
     "output_type": "stream",
     "text": [
      "67\n",
      "67\n",
      "67\n",
      "10000\n"
     ]
    }
   ],
   "source": [
    "print(len(distadam_dset))\n",
    "print(len(fedavg_dset))\n",
    "print(len(fedadam_dset))\n",
    "print(len(test_dset))"
   ]
  },
  {
   "cell_type": "code",
   "execution_count": 15,
   "id": "c83d8e66-1c85-41d6-8d0c-cee6e7f8ab32",
   "metadata": {},
   "outputs": [],
   "source": [
    "# initialize a model\n",
    "device_ids = [0,1,2,3]\n",
    "device = torch.device(f'cuda:{device_ids[0]}')\n",
    "\n",
    "distadam_model = get_model(\"resnet34\", \"cifar10\", device, device_ids)\n",
    "distadam_optim = torch.optim.Adam(distadam_model.parameters(), lr=3e-4)\n",
    "fedavg_model = get_model(\"resnet34\", \"cifar10\", device, device_ids)\n",
    "fedavg_optim = torch.optim.Adam(fedavg_model.parameters(), lr=3e-4)\n",
    "fedadam_model = get_model(\"resnet34\", \"cifar10\", device, device_ids)\n",
    "fedadam_optim = torch.optim.Adam(fedadam_model.parameters(), lr=3e-4)\n",
    "loss_fn_ce = torch.nn.CrossEntropyLoss()\n",
    "loss_fn_kl = nn.KLDivLoss(reduction=\"batchmean\", log_target=True)"
   ]
  },
  {
   "cell_type": "code",
   "execution_count": 16,
   "id": "8f1774c7-5e6d-49df-a315-d5a2360ddd60",
   "metadata": {
    "tags": []
   },
   "outputs": [],
   "source": [
    "epochs = 100"
   ]
  },
  {
   "cell_type": "code",
   "execution_count": null,
   "id": "5b8ffc66-4310-424e-a0cd-74443e94060c",
   "metadata": {
    "tags": []
   },
   "outputs": [
    {
     "name": "stdout",
     "output_type": "stream",
     "text": [
      "epoch 0 test_loss: 92.0886, test_acc: 0.1000, tr_loss: 90.9950, tr_acc: 0.3686\n",
      "epoch 1 test_loss: 107.1204, test_acc: 0.2611, tr_loss: 59.5803, tr_acc: 0.5518\n",
      "epoch 2 test_loss: 106.8687, test_acc: 0.2910, tr_loss: 45.2319, tr_acc: 0.6479\n",
      "epoch 3 test_loss: 139.9730, test_acc: 0.2724, tr_loss: 31.2190, tr_acc: 0.7396\n"
     ]
    }
   ],
   "source": [
    "distadam_best_test_acc = 0\n",
    "# test_acc_l112_ is node 3\n",
    "test_acc_distadam, tr_acc_distadam = [], []\n",
    "for epoch in range(epochs):\n",
    "    test_loss, test_acc = test(distadam_model, test_loader, loss_fn_ce, device)\n",
    "    test_acc_distadam.append(test_acc)\n",
    "    if distadam_best_test_acc < test_acc:\n",
    "        distadam_best_test_acc = test_acc\n",
    "    tr_loss, tr_acc = train(distadam_model, distadam_optim, distadam_train_loader, loss_fn_kl, device, apply_softmax=True)\n",
    "    tr_acc_distadam.append(tr_acc)\n",
    "    print(\"epoch {} test_loss: {:.4f}, test_acc: {:.4f}, tr_loss: {:.4f}, tr_acc: {:.4f}\".format(epoch,\n",
    "                                                                                                 test_loss,\n",
    "                                                                                                 test_acc,\n",
    "                                                                                                 tr_loss,\n",
    "                                                                                                 tr_acc))"
   ]
  },
  {
   "cell_type": "code",
   "execution_count": null,
   "id": "0fe82525-072b-4251-80bf-d7b446faaa50",
   "metadata": {
    "tags": []
   },
   "outputs": [],
   "source": [
    "fedavg_best_test_acc = 0\n",
    "# test_acc_l112_ is node 3\n",
    "test_acc_fedavg, tr_acc_fedavg = [], []\n",
    "for epoch in range(epochs):\n",
    "    test_loss, test_acc = test(fedavg_model, test_loader, loss_fn_ce, device)\n",
    "    test_acc_fedavg.append(test_acc)\n",
    "    if fedavg_best_test_acc < test_acc:\n",
    "        fedavg_best_test_acc = test_acc\n",
    "    tr_loss, tr_acc = train(fedavg_model, fedavg_optim, fedavg_train_loader, loss_fn_kl, device, apply_softmax=True)\n",
    "    tr_acc_fedavg.append(tr_acc)\n",
    "    print(\"epoch {} test_loss: {:.4f}, test_acc: {:.4f}, tr_loss: {:.4f}, tr_acc: {:.4f}\".format(epoch,\n",
    "                                                                                                 test_loss,\n",
    "                                                                                                 test_acc,\n",
    "                                                                                                 tr_loss,\n",
    "                                                                                                 tr_acc))"
   ]
  },
  {
   "cell_type": "code",
   "execution_count": null,
   "id": "926a5be8-8d4b-411c-bbd1-31629d4aa05f",
   "metadata": {
    "tags": []
   },
   "outputs": [],
   "source": [
    "fedadam_best_test_acc = 0\n",
    "# test_acc_l112_ is node 3\n",
    "test_acc_fedadam, tr_acc_fedadam = [], []\n",
    "for epoch in range(epochs):\n",
    "    test_loss, test_acc = test(fedadam_model, test_loader, loss_fn_ce, device)\n",
    "    test_acc_fedadam.append(test_acc)\n",
    "    if fedadam_best_test_acc < test_acc:\n",
    "        fedadam_best_test_acc = test_acc\n",
    "    tr_loss, tr_acc = train(fedadam_model, fedadam_optim, fedadam_train_loader, loss_fn_kl, device, apply_softmax=True)\n",
    "    tr_acc_fedadam.append(tr_acc)\n",
    "    print(\"epoch {} test_loss: {:.4f}, test_acc: {:.4f}, tr_loss: {:.4f}, tr_acc: {:.4f}\".format(epoch,\n",
    "                                                                                                 test_loss,\n",
    "                                                                                                 test_acc,\n",
    "                                                                                                 tr_loss,\n",
    "                                                                                                 tr_acc))"
   ]
  },
  {
   "cell_type": "code",
   "execution_count": 23,
   "id": "c69bfc2a-157d-43f3-8195-0b0f3d6efee4",
   "metadata": {},
   "outputs": [
    {
     "name": "stdout",
     "output_type": "stream",
     "text": [
      "0.4977\n",
      "0.5115\n",
      "0.5617\n"
     ]
    }
   ],
   "source": [
    "print(distadam_best_test_acc )\n",
    "print(fedavg_best_test_acc )\n",
    "print(fedadam_best_test_acc )"
   ]
  },
  {
   "cell_type": "code",
   "execution_count": 29,
   "id": "03175155-cf04-4703-be4d-5638611108aa",
   "metadata": {},
   "outputs": [
    {
     "data": {
      "image/png": "[encoded data removed]",
      "text/plain": [
       "<Figure size 864x432 with 1 Axes>"
      ]
     },
     "metadata": {
      "needs_background": "light"
     },
     "output_type": "display_data"
    }
   ],
   "source": [
    "import matplotlib.pyplot as plt\n",
    "\n",
    "# plt.plot(test_acc_l)\n",
    "plt.figure(figsize=(12, 6))\n",
    "plt.grid(ls='--')\n",
    "plt.plot(test_acc_distadam, label='DistAdam')\n",
    "plt.plot(test_acc_fedavg, label='FedAvg')\n",
    "plt.plot(test_acc_fedadam, label='FedAdam')\n",
    "plt.legend(fontsize=18)\n",
    "plt.show()"
   ]
  },
  {
   "cell_type": "code",
   "execution_count": null,
   "id": "7d420a25-fb93-4274-850d-67f987afbb5b",
   "metadata": {},
   "outputs": [],
   "source": []
  },
  {
   "cell_type": "code",
   "execution_count": null,
   "id": "c2bbf253-eb04-4db6-a2e7-92e1bf9dc1a8",
   "metadata": {},
   "outputs": [],
   "source": []
  }
 ],
 "metadata": {
  "kernelspec": {
   "display_name": "Python 3 (ipykernel)",
   "language": "python",
   "name": "python3"
  },
  "language_info": {
   "codemirror_mode": {
    "name": "ipython",
    "version": 3
   },
   "file_extension": ".py",
   "mimetype": "text/x-python",
   "name": "python",
   "nbconvert_exporter": "python",
   "pygments_lexer": "ipython3",
   "version": "3.10.8"
  }
 },
 "nbformat": 4,
 "nbformat_minor": 5
}
