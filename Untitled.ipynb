{
 "cells": [
  {
   "cell_type": "code",
   "execution_count": 6,
   "id": "51cc490b-c634-4238-b362-c343b38c02f5",
   "metadata": {},
   "outputs": [],
   "source": [
    "from glob import glob\n",
    "import jmespath, importlib, os\n",
    "import sys\n",
    "sys.path.append('..')\n",
    "import numpy as np\n",
    "import torch\n",
    "import torch.nn as nn\n",
    "import torch.utils.data as data\n",
    "import torch.nn.functional as F\n",
    "import torchvision.transforms as T\n",
    "from torchvision.datasets.cifar import CIFAR10\n",
    "from torch.nn.parallel import DataParallel\n",
    "from torch.utils.data import DataLoader, Subset\n",
    "from utils.config_utils import load_config\n",
    "from utils.data_utils import get_dataset\n",
    "from utils.log_utils import LogUtils, check_and_create_path\n",
    "# from resnet import ResNet18, ResNet34, ResNet50\n",
    "import matplotlib.pyplot as plt\n"
   ]
  },
  {
   "cell_type": "code",
   "execution_count": 2,
   "id": "e0042530-4173-4b9e-af09-fcee7719cb98",
   "metadata": {},
   "outputs": [],
   "source": [
    "# node_checkpoint_path = './expt_dump/cifar10_iid/iid_clients_feddream_fast_test2_cifar10_1clients_5000samples_distadam_fast_meta_True_warmup_200_adaptive_server_True_distill_epochs_100_adaptive_distill_start_round_30_local_train_freq_5_seed4/saved_models/user1.pt'\n",
    "node_checkpoint_path = './expt_dump/cifar10_iid/iid_clients_feddream_fast_test2_cifar10_1clients_50000samples_distadam_fast_meta_True_warmup_200_adaptive_server_True_distill_epochs_100_adaptive_distill_start_round_30_local_train_freq_5_seed4/saved_models/user1.pt'"
   ]
  },
  {
   "cell_type": "code",
   "execution_count": 21,
   "id": "c8b24ebd",
   "metadata": {},
   "outputs": [],
   "source": [
    "s = torch.load('/u/gaurii/gaurii/collab_learning/expt_dump/cifar10/alpha_1/non_iid_balanced_clients_fl_cifar10_4clients_1000samples_10_algo_fedavg_alpha_1_seed4/saved_models/size_labels.pt')"
   ]
  },
  {
   "cell_type": "code",
   "execution_count": 24,
   "id": "027fced1",
   "metadata": {},
   "outputs": [],
   "source": [
    "s = [np.full_like(arr, 100) for arr in s]"
   ]
  },
  {
   "cell_type": "code",
   "execution_count": 3,
   "id": "5861286e-450b-4ecb-a724-1f1729802ba3",
   "metadata": {},
   "outputs": [],
   "source": [
    "model = ResNet34()"
   ]
  },
  {
   "cell_type": "code",
   "execution_count": 25,
   "id": "89a32598",
   "metadata": {},
   "outputs": [
    {
     "data": {
      "image/png": "[encoded data removed]",
      "text/plain": [
       "<Figure size 432x288 with 1 Axes>"
      ]
     },
     "metadata": {
      "needs_background": "light"
     },
     "output_type": "display_data"
    }
   ],
   "source": [
    "x = [[i]*10 for i in range(4)]\n",
    "y = [np.arange(10) for i in range(4)]\n",
    "plt.scatter(x, y, s = s)\n",
    "plt.xticks([0,1,2,3], [1,2,3,4])\n",
    "plt.title('Training distribution (iid)')\n",
    "plt.xlabel('Client')\n",
    "plt.ylabel('Training labels')\n",
    "plt.savefig(f\"noniid_data_iid.png\", bbox_inches='tight')\n",
    "# torch.save(s, path + f\"size_labels.pt\")   "
   ]
  },
  {
   "cell_type": "code",
   "execution_count": 8,
   "id": "321eca90",
   "metadata": {},
   "outputs": [],
   "source": [
    "def plot_training_distribution(clnt_y, n_client, n_cls, path):\n",
    "    # indices, clnt_y = non_iid_balanced(dset_obj, n_client, n_data_per_clnt, alpha)         \n",
    "    x = [[i]*n_cls for i in range(n_client)]\n",
    "    y = [np.arange(n_cls) for i in range(n_client)]\n",
    "    s = []\n",
    "    for clt in range(n_client):\n",
    "        labels = [np.where(clnt_y[clt]==i)[0].shape[0] for i in range(n_cls)]\n",
    "        s.append(np.array(labels))\n",
    "    \n",
    "    plt.scatter(x, y, s = s)\n",
    "    plt.title('Training label distribution')\n",
    "    plt.xlabel('Client id')\n",
    "    plt.ylabel('Training labels')\n",
    "    plt.savefig(path + f\"noniid_data.png\", bbox_inches='tight')\n",
    "    torch.save(s, path + f\"size_labels.pt\")   "
   ]
  },
  {
   "cell_type": "code",
   "execution_count": null,
   "id": "24b2d0c3",
   "metadata": {},
   "outputs": [],
   "source": []
  },
  {
   "cell_type": "code",
   "execution_count": 4,
   "id": "c449288c-7ca4-41af-aa34-36742be55e9c",
   "metadata": {},
   "outputs": [
    {
     "data": {
      "text/plain": [
       "<All keys matched successfully>"
      ]
     },
     "execution_count": 4,
     "metadata": {},
     "output_type": "execute_result"
    }
   ],
   "source": [
    "model.load_state_dict(torch.load(node_checkpoint_path))"
   ]
  },
  {
   "cell_type": "code",
   "execution_count": 7,
   "id": "e85982c0-73d5-4447-a163-5a135fe92f93",
   "metadata": {},
   "outputs": [],
   "source": [
    "model = model.to('cuda:1')"
   ]
  },
  {
   "cell_type": "code",
   "execution_count": 8,
   "id": "12f2a102-120e-4332-94cc-89cce69d0866",
   "metadata": {},
   "outputs": [
    {
     "name": "stdout",
     "output_type": "stream",
     "text": [
      "Files already downloaded and verified\n",
      "Files already downloaded and verified\n"
     ]
    }
   ],
   "source": [
    "dset_obj = get_dataset('cifar10', \"./imgs/cifar10/\")\n",
    "test_dset = dset_obj.test_dset\n",
    "test_loader = DataLoader(test_dset, batch_size=256)"
   ]
  },
  {
   "cell_type": "code",
   "execution_count": 9,
   "id": "31c56ffc-9574-46f1-8219-15ba0ad537a1",
   "metadata": {},
   "outputs": [],
   "source": [
    "def test(model, dloader, device, **kwargs):\n",
    "        \"\"\"TODO: generate docstring\n",
    "        \"\"\"\n",
    "        model.eval()\n",
    "        test_loss = 0\n",
    "        correct = 0\n",
    "        count = 0\n",
    "        loss_fn = torch.nn.CrossEntropyLoss(reduction='sum')\n",
    "        with torch.no_grad():\n",
    "            for data, target in dloader:\n",
    "                data, target = data.to(device), target.to(device)\n",
    "                position = kwargs.get(\"position\", 0)\n",
    "                output = model(data, position=position)\n",
    "                \n",
    "                test_loss += loss_fn(output, target).item()\n",
    "                pred = output.argmax(dim=1, keepdim=True)\n",
    "                count += len(output)\n",
    "                # view_as() is used to make sure the shape of pred and target are the same\n",
    "                correct += pred.eq(target.view_as(pred)).sum().item()\n",
    "        acc = correct / len(dloader.dataset)\n",
    "        return test_loss/count, acc"
   ]
  },
  {
   "cell_type": "code",
   "execution_count": 11,
   "id": "d442946e-a6fc-4cb5-a647-3ea63f139232",
   "metadata": {},
   "outputs": [
    {
     "data": {
      "text/plain": [
       "(0.33220444831848145, 0.9269)"
      ]
     },
     "execution_count": 11,
     "metadata": {},
     "output_type": "execute_result"
    }
   ],
   "source": [
    "test(model, test_loader, 'cuda:1')"
   ]
  },
  {
   "cell_type": "code",
   "execution_count": null,
   "id": "4b61abad-7da0-4c22-b32e-7b6205cb1e7a",
   "metadata": {},
   "outputs": [],
   "source": [
    "torch."
   ]
  },
  {
   "cell_type": "code",
   "execution_count": null,
   "id": "dc4739e5-beef-4d78-8ea0-704ccfe663bd",
   "metadata": {},
   "outputs": [],
   "source": []
  }
 ],
 "metadata": {
  "kernelspec": {
   "display_name": "Python 3 (ipykernel)",
   "language": "python",
   "name": "python3"
  },
  "language_info": {
   "codemirror_mode": {
    "name": "ipython",
    "version": 3
   },
   "file_extension": ".py",
   "mimetype": "text/x-python",
   "name": "python",
   "nbconvert_exporter": "python",
   "pygments_lexer": "ipython3",
   "version": "3.10.12"
  }
 },
 "nbformat": 4,
 "nbformat_minor": 5
}
